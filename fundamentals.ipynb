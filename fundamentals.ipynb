{
 "cells": [
  {
   "cell_type": "code",
   "execution_count": 18,
   "id": "3a8d21e4-8323-48c0-94bd-91e4a6f5178e",
   "metadata": {},
   "outputs": [
    {
     "name": "stdout",
     "output_type": "stream",
     "text": [
      "tensor([1, 2, 3, 4, 5])\n",
      "→ shape: torch.Size([5]), dtype: torch.int64, device: cpu\n",
      "\n",
      "tensor([[0., 0., 0.],\n",
      "        [0., 0., 0.]])\n",
      "→ shape: torch.Size([2, 3]), dtype: torch.float32, device: cpu\n",
      "\n",
      "tensor([[0.7583, 0.5937, 0.9625],\n",
      "        [0.5167, 0.0379, 0.8898],\n",
      "        [0.1243, 0.0361, 0.6056]])\n",
      "→ shape: torch.Size([3, 3]), dtype: torch.float32, device: cpu\n",
      "\n",
      "tensor([ 0,  2,  4,  6,  8, 10])\n",
      "→ shape: torch.Size([6]), dtype: torch.int64, device: cpu\n",
      "\n"
     ]
    }
   ],
   "source": [
    "import torch\n",
    "\n",
    "#exercise 1\n",
    "tensors_list =[]\n",
    "\n",
    "one_dim = torch.tensor([1,2,3,4,5])\n",
    "tensors_list.append(one_dim)\n",
    "two_by_three = torch.zeros(size=[2,3])\n",
    "tensors_list.append(two_by_three)\n",
    "three_by_three = torch.rand(size=[3,3])\n",
    "tensors_list.append(three_by_three)\n",
    "zero_to_ten = torch.arange(start=0, end=11, step=2)\n",
    "tensors_list.append(zero_to_ten)\n",
    "\n",
    "for t in tensors_list:\n",
    "    print(f\"{t}\\n→ shape: {t.shape}, dtype: {t.dtype}, device: {t.device}\\n\")"
   ]
  },
  {
   "cell_type": "code",
   "execution_count": 26,
   "id": "cd367c5c-f4df-4f17-8ade-f9f2cc7b4e9f",
   "metadata": {},
   "outputs": [
    {
     "name": "stdout",
     "output_type": "stream",
     "text": [
      "A + B = tensor([[ 6.,  8.],\n",
      "        [10., 12.]])\n",
      "A - B = tensor([[-4., -4.],\n",
      "        [-4., -4.]])\n",
      "A @ B = tensor([[19., 22.],\n",
      "        [43., 50.]])\n",
      "Mean of A = 2.5\n",
      "Std of A = 1.29099440574646\n",
      "A + C = tensor([[11., 22.],\n",
      "        [13., 24.]])\n"
     ]
    }
   ],
   "source": [
    "#exercise 2\n",
    "A = torch.tensor([[1, 2], [3, 4]], dtype=torch.float32)\n",
    "B = torch.tensor([[5, 6], [7, 8]], dtype=torch.float32)\n",
    "\n",
    "print(f\"A + B = {A + B}\")\n",
    "print(f\"A - B = {A - B}\")\n",
    "print(f\"A @ B = {torch.matmul(A, B)}\")\n",
    "print(f\"Mean of A = {A.mean()}\")\n",
    "print(f\"Std of A = {A.std()}\")\n",
    "\n",
    "C = torch.tensor([10, 20])\n",
    "print(f\"A + C = {A + C}\")"
   ]
  },
  {
   "cell_type": "code",
   "execution_count": 62,
   "id": "34eb6400-f4f1-49df-88cb-2a4dbfdccf19",
   "metadata": {},
   "outputs": [
    {
     "name": "stdout",
     "output_type": "stream",
     "text": [
      "Second row: tensor([5, 6, 7, 8])\n",
      "Second third column: tensor([ 3,  7, 11, 15])\n",
      "top-left 2×2 submatrix: tensor([[1, 2],\n",
      "        [5, 6]])\n"
     ]
    },
    {
     "data": {
      "text/plain": [
       "tensor([[ 0,  0,  0,  0],\n",
       "        [ 9, 10, 11, 12],\n",
       "        [ 5,  6,  7,  8],\n",
       "        [ 1,  2,  3,  4]])"
      ]
     },
     "execution_count": 62,
     "metadata": {},
     "output_type": "execute_result"
    }
   ],
   "source": [
    "#exercise 3 (indexing and slicing)\n",
    "X = torch.arange(1, 17).reshape(4, 4)\n",
    "print(f\"Second row: {X[1]}\")\n",
    "print(f\"Second third column: {X.select(1, 2)}\") #or simply X[:,2]\n",
    "reshaped = X.reshape(8,2)\n",
    "sub_mat = torch.cat((reshaped[0],reshaped[2]), 0).reshape(2,2) #X[:2, :2]\n",
    "print(f\"top-left 2×2 submatrix: {sub_mat}\")\n",
    "\n",
    "#Replace the last row with zeros.\n",
    "X[-1] = torch.zeros_like(X[-1])\n",
    "\n",
    "#Reverse the order of rows.\n",
    "reversed_X = torch.flip(X, [0])\n",
    "reversed_X"
   ]
  },
  {
   "cell_type": "code",
   "execution_count": 85,
   "id": "2e144967-91e1-41d9-a801-61fbf463e0c3",
   "metadata": {},
   "outputs": [
    {
     "name": "stdout",
     "output_type": "stream",
     "text": [
      "(3, 8) shape: tensor([[0.6399, 0.1093, 0.0674, 0.2513, 0.4417, 0.4643, 0.6666, 0.3322],\n",
      "        [0.4385, 0.5259, 0.7648, 0.9321, 0.9795, 0.4720, 0.7766, 0.5725],\n",
      "        [0.0282, 0.5654, 0.1333, 0.6035, 0.3754, 0.2219, 0.9395, 0.2132]])\n",
      "(4, 6) shape: tensor([[0.6399, 0.1093, 0.0674, 0.2513, 0.4417, 0.4643],\n",
      "        [0.6666, 0.3322, 0.4385, 0.5259, 0.7648, 0.9321],\n",
      "        [0.9795, 0.4720, 0.7766, 0.5725, 0.0282, 0.5654],\n",
      "        [0.1333, 0.6035, 0.3754, 0.2219, 0.9395, 0.2132]])\n",
      "tensor([[[0.6399, 0.1093, 0.0674],\n",
      "         [0.2513, 0.4417, 0.4643],\n",
      "         [0.6666, 0.3322, 0.4385],\n",
      "         [0.5259, 0.7648, 0.9321]],\n",
      "\n",
      "        [[0.9795, 0.4720, 0.7766],\n",
      "         [0.5725, 0.0282, 0.5654],\n",
      "         [0.1333, 0.6035, 0.3754],\n",
      "         [0.2219, 0.9395, 0.2132]]])\n",
      "tensor([[[0.6399, 0.1093],\n",
      "         [0.0674, 0.2513],\n",
      "         [0.4417, 0.4643]],\n",
      "\n",
      "        [[0.9795, 0.4720],\n",
      "         [0.7766, 0.5725],\n",
      "         [0.0282, 0.5654]]])\n"
     ]
    },
    {
     "data": {
      "text/plain": [
       "tensor([[1, 4],\n",
       "        [2, 5],\n",
       "        [3, 6]])"
      ]
     },
     "execution_count": 85,
     "metadata": {},
     "output_type": "execute_result"
    }
   ],
   "source": [
    "#exercise 4 — Tensor Reshaping and Stacking\n",
    "#1.Create a tensor of shape (2, 3, 4) filled with random numbers.\n",
    "T = torch.rand(size=(2,3,4))\n",
    "\n",
    "#Reshape it into (3, 8) and (4, 6) — verify total elements are consistent.\n",
    "reshaped_T1 = T.reshape(3,8)\n",
    "print(f\"(3, 8) shape: {reshaped_T1}\")\n",
    "reshaped_T2 = T.reshape(4,6)\n",
    "print(f\"(4, 6) shape: {reshaped_T2}\")\n",
    "\n",
    "#Split the tensor into two equal parts along the second dimension.\n",
    "reshaped_T3 = T.reshape(2,4,3)\n",
    "print(reshaped_T3)\n",
    "first_slice = reshaped_T3[:,:2,:].reshape(2,3,2)\n",
    "print(first_slice)\n",
    "second_slice = reshaped_T3[:,2:,:].reshape(2,3,2)\n",
    "second_slice\n",
    "\n",
    "sliced = torch.tensor_split(T, 2, dim=1)\n",
    "sliced\n",
    "\n",
    "#Stack two 1D tensors [1,2,3] and [4,5,6]:\n",
    "T1 = torch.tensor([1,2,3])\n",
    "T2 = torch.tensor([4,5,6])\n",
    "#Vertically → shape (2, 3)\n",
    "torch.stack((T1,T2), dim=0)\n",
    "#Horizontally → shape (3, 2) using torch.stack and torch.cat.\n",
    "torch.stack((T1,T2), dim=1)"
   ]
  },
  {
   "cell_type": "code",
   "execution_count": 86,
   "id": "c79695c3-9b76-4fe5-a227-eed37d120d82",
   "metadata": {},
   "outputs": [
    {
     "data": {
      "text/plain": [
       "tensor([[[0.6399, 0.1093, 0.0674, 0.2513],\n",
       "         [0.4417, 0.4643, 0.6666, 0.3322],\n",
       "         [0.4385, 0.5259, 0.7648, 0.9321]],\n",
       "\n",
       "        [[0.9795, 0.4720, 0.7766, 0.5725],\n",
       "         [0.0282, 0.5654, 0.1333, 0.6035],\n",
       "         [0.3754, 0.2219, 0.9395, 0.2132]]])"
      ]
     },
     "execution_count": 86,
     "metadata": {},
     "output_type": "execute_result"
    }
   ],
   "source": [
    "T"
   ]
  },
  {
   "cell_type": "code",
   "execution_count": null,
   "id": "e03b9362-9fc0-4c0d-889a-56fe73fe519f",
   "metadata": {},
   "outputs": [],
   "source": []
  }
 ],
 "metadata": {
  "kernelspec": {
   "display_name": "Python 3 (ipykernel)",
   "language": "python",
   "name": "python3"
  },
  "language_info": {
   "codemirror_mode": {
    "name": "ipython",
    "version": 3
   },
   "file_extension": ".py",
   "mimetype": "text/x-python",
   "name": "python",
   "nbconvert_exporter": "python",
   "pygments_lexer": "ipython3",
   "version": "3.13.7"
  }
 },
 "nbformat": 4,
 "nbformat_minor": 5
}
