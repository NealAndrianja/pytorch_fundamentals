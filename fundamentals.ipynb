{
 "cells": [
  {
   "cell_type": "code",
   "execution_count": 18,
   "id": "3a8d21e4-8323-48c0-94bd-91e4a6f5178e",
   "metadata": {},
   "outputs": [
    {
     "name": "stdout",
     "output_type": "stream",
     "text": [
      "tensor([1, 2, 3, 4, 5])\n",
      "→ shape: torch.Size([5]), dtype: torch.int64, device: cpu\n",
      "\n",
      "tensor([[0., 0., 0.],\n",
      "        [0., 0., 0.]])\n",
      "→ shape: torch.Size([2, 3]), dtype: torch.float32, device: cpu\n",
      "\n",
      "tensor([[0.7583, 0.5937, 0.9625],\n",
      "        [0.5167, 0.0379, 0.8898],\n",
      "        [0.1243, 0.0361, 0.6056]])\n",
      "→ shape: torch.Size([3, 3]), dtype: torch.float32, device: cpu\n",
      "\n",
      "tensor([ 0,  2,  4,  6,  8, 10])\n",
      "→ shape: torch.Size([6]), dtype: torch.int64, device: cpu\n",
      "\n"
     ]
    }
   ],
   "source": [
    "import torch\n",
    "\n",
    "#exercise 1\n",
    "tensors_list =[]\n",
    "\n",
    "one_dim = torch.tensor([1,2,3,4,5])\n",
    "tensors_list.append(one_dim)\n",
    "two_by_three = torch.zeros(size=[2,3])\n",
    "tensors_list.append(two_by_three)\n",
    "three_by_three = torch.rand(size=[3,3])\n",
    "tensors_list.append(three_by_three)\n",
    "zero_to_ten = torch.arange(start=0, end=11, step=2)\n",
    "tensors_list.append(zero_to_ten)\n",
    "\n",
    "for t in tensors_list:\n",
    "    print(f\"{t}\\n→ shape: {t.shape}, dtype: {t.dtype}, device: {t.device}\\n\")"
   ]
  },
  {
   "cell_type": "code",
   "execution_count": 26,
   "id": "cd367c5c-f4df-4f17-8ade-f9f2cc7b4e9f",
   "metadata": {},
   "outputs": [
    {
     "name": "stdout",
     "output_type": "stream",
     "text": [
      "A + B = tensor([[ 6.,  8.],\n",
      "        [10., 12.]])\n",
      "A - B = tensor([[-4., -4.],\n",
      "        [-4., -4.]])\n",
      "A @ B = tensor([[19., 22.],\n",
      "        [43., 50.]])\n",
      "Mean of A = 2.5\n",
      "Std of A = 1.29099440574646\n",
      "A + C = tensor([[11., 22.],\n",
      "        [13., 24.]])\n"
     ]
    }
   ],
   "source": [
    "#exercise 2\n",
    "A = torch.tensor([[1, 2], [3, 4]], dtype=torch.float32)\n",
    "B = torch.tensor([[5, 6], [7, 8]], dtype=torch.float32)\n",
    "\n",
    "print(f\"A + B = {A + B}\")\n",
    "print(f\"A - B = {A - B}\")\n",
    "print(f\"A @ B = {torch.matmul(A, B)}\")\n",
    "print(f\"Mean of A = {A.mean()}\")\n",
    "print(f\"Std of A = {A.std()}\")\n",
    "\n",
    "C = torch.tensor([10, 20])\n",
    "print(f\"A + C = {A + C}\")"
   ]
  },
  {
   "cell_type": "code",
   "execution_count": null,
   "id": "34eb6400-f4f1-49df-88cb-2a4dbfdccf19",
   "metadata": {},
   "outputs": [],
   "source": []
  }
 ],
 "metadata": {
  "kernelspec": {
   "display_name": "Python 3 (ipykernel)",
   "language": "python",
   "name": "python3"
  },
  "language_info": {
   "codemirror_mode": {
    "name": "ipython",
    "version": 3
   },
   "file_extension": ".py",
   "mimetype": "text/x-python",
   "name": "python",
   "nbconvert_exporter": "python",
   "pygments_lexer": "ipython3",
   "version": "3.13.7"
  }
 },
 "nbformat": 4,
 "nbformat_minor": 5
}
