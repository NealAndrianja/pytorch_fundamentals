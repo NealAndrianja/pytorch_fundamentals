{
 "cells": [
  {
   "cell_type": "code",
   "execution_count": null,
   "id": "b2fbb20b-0175-43fd-bff7-633ddcf0f6b0",
   "metadata": {},
   "outputs": [],
   "source": [
    "import torch\n",
    "print(torch.version)"
   ]
  },
  {
   "cell_type": "code",
   "execution_count": null,
   "id": "36dda317-3c2b-4954-96cc-5cdc1f43c6da",
   "metadata": {},
   "outputs": [],
   "source": []
  }
 ],
 "metadata": {
  "kernelspec": {
   "display_name": "Python 3 (ipykernel)",
   "language": "python",
   "name": "python3"
  },
  "language_info": {
   "codemirror_mode": {
    "name": "ipython",
    "version": 3
   },
   "file_extension": ".py",
   "mimetype": "text/x-python",
   "name": "python",
   "nbconvert_exporter": "python",
   "pygments_lexer": "ipython3",
   "version": "3.13.7"
  }
 },
 "nbformat": 4,
 "nbformat_minor": 5
}
